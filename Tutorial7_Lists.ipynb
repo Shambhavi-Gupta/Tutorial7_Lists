{
  "nbformat": 4,
  "nbformat_minor": 0,
  "metadata": {
    "colab": {
      "name": "Tutorial7_Lists.ipynb",
      "provenance": [],
      "authorship_tag": "ABX9TyOPozjDqF9NyLNRkXR539Nx",
      "include_colab_link": true
    },
    "kernelspec": {
      "name": "python3",
      "display_name": "Python 3"
    }
  },
  "cells": [
    {
      "cell_type": "markdown",
      "metadata": {
        "id": "view-in-github",
        "colab_type": "text"
      },
      "source": [
        "<a href=\"https://colab.research.google.com/github/Shambhavi-Gupta/Tutorial7_Lists/blob/main/Tutorial7_Lists.ipynb\" target=\"_parent\"><img src=\"https://colab.research.google.com/assets/colab-badge.svg\" alt=\"Open In Colab\"/></a>"
      ]
    },
    {
      "cell_type": "code",
      "metadata": {
        "id": "sxJexkO2uYwQ"
      },
      "source": [
        "tationary = [\"pen\" , \"pencil\" , \"eraser\" , \"scale\",\r\n",
        "              \"marker\" ,56 ]\r\n",
        "#print(stationary)\r\n",
        "#print(stationary[0])\r\n",
        "digits = [2,5,9,1,6]\r\n",
        "#print(digits)\r\n",
        "#print(digits[3])\r\n",
        "#digits.sort()\r\n",
        "#print(digits)\r\n",
        "#digits.reverse()\r\n",
        "#print(digits)\r\n",
        "#print(digits[1:4])\r\n",
        "#print(digits)\r\n",
        "#print(len(digits))\r\n",
        "#print(max(digits))\r\n",
        "#print(min(digits))\r\n",
        "#digits.append(5)\r\n",
        "#print(digits)     #it adds the number in the last\r\n",
        "#digits.append(5)\r\n",
        "#digits.append(5)\r\n",
        "#print(digits)\r\n",
        "#digits.insert(3,10)\r\n",
        "#print(digits)\r\n",
        "digits.remove(2)\r\n",
        "print(digits)\r\n"
      ],
      "execution_count": null,
      "outputs": []
    }
  ]
}